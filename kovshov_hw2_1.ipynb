{
 "metadata": {
  "language_info": {
   "codemirror_mode": {
    "name": "ipython",
    "version": 3
   },
   "file_extension": ".py",
   "mimetype": "text/x-python",
   "name": "python",
   "nbconvert_exporter": "python",
   "pygments_lexer": "ipython3",
   "version": "3.8.0-final"
  },
  "orig_nbformat": 2,
  "kernelspec": {
   "name": "Python 3.8.0 64-bit ('3.8.0': pyenv)",
   "display_name": "Python 3.8.0 64-bit ('3.8.0': pyenv)",
   "metadata": {
    "interpreter": {
     "hash": "19765a07afc77596a2e5869b85cb66d522c8e44dd20913bee31a940a547aa535"
    }
   }
  }
 },
 "nbformat": 4,
 "nbformat_minor": 2,
 "cells": [
  {
   "cell_type": "code",
   "execution_count": 1,
   "metadata": {
    "tags": []
   },
   "outputs": [],
   "source": [
    "import statistics as stat\n",
    "import pandas as pd\n",
    "import numpy as np\n",
    "import math\n",
    "import json"
   ]
  },
  {
   "cell_type": "code",
   "execution_count": 2,
   "metadata": {},
   "outputs": [],
   "source": [
    "# 0. Чтение данных из подготовленных файлов и объявление констант.\n",
    "data = pd.read_csv(\"resources/data.csv\", delimiter=', ').drop(columns=[\"Unnamed: 0\"])\n",
    "context_day = pd.read_csv(\"resources/context_day.csv\", delimiter=', ').drop(columns=[\"Unnamed: 0\"])\n",
    "context_place = pd.read_csv(\"resources/context_place.csv\", delimiter=', ').drop(columns=[\"Unnamed: 0\"])\n",
    "\n",
    "my_index = 11\n",
    "non_rated = -1\n",
    "\n",
    "home = 'h'\n",
    "non_home = ['v', 'c']\n",
    "\n",
    "weekends = ['Sat', 'Sun']\n",
    "non_weekends = ['Mon', 'Tue', 'Wed', 'Thu', 'Fri']\n",
    "\n",
    "def r3(x):\n",
    "    return round(x, 3)"
   ]
  },
  {
   "cell_type": "code",
   "execution_count": 3,
   "metadata": {
    "tags": []
   },
   "outputs": [
    {
     "output_type": "stream",
     "name": "stdout",
     "text": [
      "part 1 answer =  {'Movie 4': 3.538, 'Movie 6': 3.92, 'Movie 11': 2.556, 'Movie 20': 3.591}\n"
     ]
    }
   ],
   "source": [
    "# 1. Для заданного пользователя (12 Ковшов Валерий) рассчитать оценки для всех фильмов, которые он не оценил.\n",
    "my_data_row = data.iloc[[my_index]].values[0]\n",
    "row_len = len(my_data_row)\n",
    "\n",
    "sims = {}\n",
    "for row_index in range(len(data)):\n",
    "    if row_index == my_index:\n",
    "        continue\n",
    "    user_data_row = data.iloc[[row_index]].values[0]\n",
    "    sum_ui_vi = 0\n",
    "    sum_ui = 0\n",
    "    sum_vi = 0\n",
    "    for column_index in range(row_len):\n",
    "        my_data_cell = my_data_row[column_index]\n",
    "        user_data_cell = user_data_row[column_index]\n",
    "        if (my_data_cell != non_rated) & (user_data_cell != non_rated):\n",
    "            sum_ui_vi += my_data_cell * user_data_cell\n",
    "            sum_ui += my_data_cell ** 2\n",
    "            sum_vi += user_data_cell ** 2\n",
    "    sim_u_v = r3(sum_ui_vi / (math.sqrt(sum_ui) * math.sqrt(sum_vi)))\n",
    "    sims[row_index] = sim_u_v\n",
    "\n",
    "sorted_sims = dict(sorted(sims.items(), key=lambda x: x[1], reverse=True))\n",
    "\n",
    "avg_for_user = {}\n",
    "for row_index in range(len(data)):\n",
    "    avg = 0\n",
    "    count = 0\n",
    "    data_row = data.iloc[[row_index]].values[0]\n",
    "    for column_index in range(row_len):\n",
    "        data_cell = data_row[column_index]\n",
    "        if data_cell != non_rated:\n",
    "            avg += data_cell\n",
    "            count += 1\n",
    "    avg_for_user[row_index] = r3(avg / count)\n",
    "\n",
    "my_non_rated = []\n",
    "future_rate = {}\n",
    "for movie_index in range(row_len):\n",
    "    if my_data_row[movie_index] == non_rated:\n",
    "        my_non_rated.append(movie_index)\n",
    "        sum_numerator = 0\n",
    "        sum_denominator = 0\n",
    "        count = 0\n",
    "        for user_index in sorted_sims:\n",
    "            user_rate = data.iloc[[user_index]].values[0][movie_index]\n",
    "            if user_rate == non_rated:\n",
    "                count += 1\n",
    "            elif count == 4:\n",
    "                break\n",
    "            else:\n",
    "                count += 1\n",
    "                sum_numerator += sims[user_index] * (user_rate - avg_for_user[user_index]) \n",
    "                sum_denominator += sims[user_index]\n",
    "        future_rate[data.columns[movie_index]] = r3(avg_for_user[my_index] + sum_numerator / sum_denominator)\n",
    "print(\"part 1 answer = \", future_rate)"
   ]
  },
  {
   "cell_type": "code",
   "execution_count": 4,
   "metadata": {},
   "outputs": [
    {
     "output_type": "stream",
     "name": "stdout",
     "text": [
      "part 2 answer =  {'Movie 4': 3.199}\n"
     ]
    }
   ],
   "source": [
    "# 2. Порекомендовать заданному пользователю 1 фильм, который он посмотрел бы в выходной дома, если такой фильм есть в данных.\n",
    "# Мы будем выбирать из фильмов, которые пользователь ещё не смотрел иначе какой смысл? Ориенироваться при выборе будем на оценки пользователей, которые смотрели эти фильмы (которые не видел заданный пользователь) дома в выходные с учётом соотношения вкусов этих пользователей с вкусами заданного пользователя.\n",
    "\n",
    "avg_for_movie = {}\n",
    "for column_index in range(len(my_non_rated)):\n",
    "    avg = 0\n",
    "    count = 0\n",
    "    data_column = data[data.columns[my_non_rated[column_index]]]\n",
    "    for row_index in range(len(data)):\n",
    "        data_cell = data_column[row_index]\n",
    "        if data_cell != non_rated:\n",
    "            avg += data_cell\n",
    "            count += 1\n",
    "    avg_for_movie[my_non_rated[column_index]] = r3(avg / count)\n",
    "\n",
    "context_day_for_non_rated = context_day[context_day.columns[my_non_rated]]\n",
    "context_day_for_non_rated_at_weekends = context_day_for_non_rated.replace(weekends, 1).replace(non_weekends, 0)\n",
    "\n",
    "context_place_for_non_rated = context_place[context_place.columns[my_non_rated]]\n",
    "context_place_for_non_rated_at_home = context_place_for_non_rated.replace(home, 1).replace(non_home, 0)\n",
    "\n",
    "weekends_at_home = {}\n",
    "for user_index in range(len(data)):\n",
    "    weekends_at_home[user_index] = []\n",
    "    user_context_day = context_day_for_non_rated_at_weekends.iloc[[user_index]].values[0]\n",
    "    user_context_place = context_place_for_non_rated_at_home.iloc[[user_index]].values[0]\n",
    "    for movie_index in range(len(my_non_rated)):\n",
    "        context_day_cell = int(user_context_day[movie_index])\n",
    "        context_place_cell = int(user_context_place[movie_index])\n",
    "        if context_day_cell == 1 & context_place_cell == 1:\n",
    "            weekends_at_home[user_index].append(True)\n",
    "        else:\n",
    "            weekends_at_home[user_index].append(False)\n",
    "\n",
    "rate_for_non_rated_at_weekends_at_home = {}\n",
    "for movie_index in range(len(my_non_rated)):\n",
    "    sum_numerator = 0\n",
    "    sum_denominator = 0\n",
    "    for user_index in weekends_at_home:\n",
    "        if weekends_at_home[user_index][movie_index] == False:\n",
    "            continue\n",
    "        sum_numerator += sims[user_index] * (data.iloc[[user_index]].values[0][my_non_rated[movie_index]] - avg_for_movie[my_non_rated[movie_index]])\n",
    "        sum_denominator += sims[user_index]\n",
    "    rate_for_non_rated_at_weekends_at_home[data.columns[my_non_rated[movie_index]]] = avg_for_movie[my_non_rated[movie_index]] + r3(sum_numerator / sum_denominator)\n",
    "top_movie_for_weekends_at_home_tuple = sorted(rate_for_non_rated_at_weekends_at_home.items(), key=lambda x: x[1], reverse=True)[0]\n",
    "top_movie_for_weekends_at_home = {top_movie_for_weekends_at_home_tuple[0]: top_movie_for_weekends_at_home_tuple[1]}\n",
    "print(\"part 2 answer = \", top_movie_for_weekends_at_home)"
   ]
  },
  {
   "cell_type": "code",
   "execution_count": 5,
   "metadata": {},
   "outputs": [
    {
     "output_type": "stream",
     "name": "stdout",
     "text": [
      "{\n    \"user\": 12,\n    \"1\": {\n        \"Movie 4\": 3.538,\n        \"Movie 6\": 3.92,\n        \"Movie 11\": 2.556,\n        \"Movie 20\": 3.591\n    },\n    \"2\": {\n        \"Movie 4\": 3.199\n    }\n}\n"
     ]
    }
   ],
   "source": [
    "# 3. Заполнение json файла.\n",
    "user = my_index + 1\n",
    "ans_part1 = json.dumps(future_rate, sort_keys=True, indent=4)\n",
    "ans_part2 = json.dumps(top_movie_for_weekends_at_home, sort_keys=True, indent=4) \n",
    "result = json.dumps({'user': user,'1': future_rate, '2': top_movie_for_weekends_at_home}, indent=4)\n",
    "print(result)"
   ]
  }
 ]
}