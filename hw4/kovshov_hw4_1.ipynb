{
 "metadata": {
  "language_info": {
   "codemirror_mode": {
    "name": "ipython",
    "version": 3
   },
   "file_extension": ".py",
   "mimetype": "text/x-python",
   "name": "python",
   "nbconvert_exporter": "python",
   "pygments_lexer": "ipython3",
   "version": "3.8.0-final"
  },
  "orig_nbformat": 2,
  "kernelspec": {
   "name": "python3",
   "display_name": "Python 3.8.0 64-bit ('3.8.0')",
   "metadata": {
    "interpreter": {
     "hash": "19765a07afc77596a2e5869b85cb66d522c8e44dd20913bee31a940a547aa535"
    }
   }
  }
 },
 "nbformat": 4,
 "nbformat_minor": 2,
 "cells": [
  {
   "cell_type": "code",
   "execution_count": 13,
   "metadata": {
    "tags": []
   },
   "outputs": [],
   "source": [
    "import numpy as np\n",
    "import pandas as pd\n",
    "import pygad"
   ]
  },
  {
   "cell_type": "code",
   "execution_count": 14,
   "metadata": {},
   "outputs": [
    {
     "output_type": "execute_result",
     "data": {
      "text/plain": [
       "[[1329.0, 1.2, 179.0],\n",
       " [443.0, 1.0, 260.0],\n",
       " [407.0, 0.6, 188.0],\n",
       " [921.0, 0.8, 259.0],\n",
       " [1083.0, 0.4, 136.0],\n",
       " [900.0, 1.2, 197.0],\n",
       " [1332.0, 0.5, 206.0],\n",
       " [562.0, 0.9, 291.0],\n",
       " [1197.0, 1.1, 171.0],\n",
       " [200.0, 1.1, 135.0],\n",
       " [1214.0, 0.7, 301.0],\n",
       " [976.0, 0.6, 131.0],\n",
       " [1344.0, 0.9, 309.0],\n",
       " [150.0, 0.7, 259.0],\n",
       " [1512.0, 0.5, 210.0],\n",
       " [453.0, 0.9, 273.0],\n",
       " [1101.0, 0.9, 173.0],\n",
       " [856.0, 0.9, 300.0],\n",
       " [1361.0, 1.2, 220.0],\n",
       " [725.0, 0.9, 258.0],\n",
       " [1044.0, 1.2, 334.0],\n",
       " [1221.0, 0.9, 207.0],\n",
       " [373.0, 0.8, 118.0],\n",
       " [1044.0, 0.8, 261.0],\n",
       " [288.0, 0.6, 286.0],\n",
       " [320.0, 0.4, 142.0],\n",
       " [1695.0, 0.7, 234.0],\n",
       " [1664.0, 0.7, 262.0],\n",
       " [1545.0, 0.6, 254.0],\n",
       " [1008.0, 1.1, 309.0]]"
      ]
     },
     "metadata": {},
     "execution_count": 14
    }
   ],
   "source": [
    "df = pd.read_csv('../resources/10.txt', delimiter=' ', engine='python')\n",
    "parameters = df.columns.tolist()\n",
    "W = int(parameters[0]) \n",
    "V = int(parameters[1]) \n",
    "df.columns = ['v', 'c']\n",
    "df['w'] = df.index\n",
    "data = df[['w','v','c']].values.tolist()\n",
    "\n",
    "data"
   ]
  },
  {
   "cell_type": "code",
   "execution_count": 15,
   "metadata": {},
   "outputs": [],
   "source": [
    "def fitness_func(solution, solution_idx):\n",
    "    w, v, c = 0, 0, 0\n",
    "    for (array, item) in zip(solution, data):\n",
    "        if array > 0:\n",
    "            w += item[0]\n",
    "            v += item[1]\n",
    "            c += item[2]\n",
    "    if w > W or v > V:\n",
    "        c = 0\n",
    "    return c"
   ]
  },
  {
   "cell_type": "code",
   "execution_count": 16,
   "metadata": {},
   "outputs": [],
   "source": [
    "# max, mi, mj = 0, 0, 0\n",
    "# for i in range(200, 301):\n",
    "#     for j in range(10, 21):\n",
    "#         ga_instance = pygad.GA(num_generations=i, \n",
    "#                        num_parents_mating=2, \n",
    "#                        fitness_func=fitness_func, \n",
    "#                        sol_per_pop=j,\n",
    "#                        num_genes=len(data), \n",
    "#                        init_range_low=-1,\n",
    "#                        init_range_high=1)\n",
    "#         ga_instance.run()\n",
    "#         solution, solution_fitness, _ = ga_instance.best_solution()\n",
    "#         if solution_fitness > max:\n",
    "#             max = solution_fitness\n",
    "#             mi = i\n",
    "#             mj = j\n",
    "# print('Max:', max)\n",
    "# print('Best num_generations:', mi)\n",
    "# print('Best sol_per_pop:', mj)\n"
   ]
  },
  {
   "cell_type": "code",
   "execution_count": 17,
   "metadata": {},
   "outputs": [
    {
     "output_type": "stream",
     "name": "stdout",
     "text": [
      "4029.0\n         w    v      c\n0    443.0  1.0  260.0\n1    921.0  0.8  259.0\n2   1332.0  0.5  206.0\n3    562.0  0.9  291.0\n4   1214.0  0.7  301.0\n5   1344.0  0.9  309.0\n6    150.0  0.7  259.0\n7    856.0  0.9  300.0\n8    725.0  0.9  258.0\n9   1044.0  1.2  334.0\n10  1044.0  0.8  261.0\n11   288.0  0.6  286.0\n12   320.0  0.4  142.0\n13  1545.0  0.6  254.0\n14  1008.0  1.1  309.0\nВес: 12796.0\nОбъем: 12.0\nЦенность: 4029.0\n"
     ]
    }
   ],
   "source": [
    "ga_instance = pygad.GA(num_generations=236, \n",
    "                       num_parents_mating=2, \n",
    "                       fitness_func=fitness_func, \n",
    "                       sol_per_pop=20,\n",
    "                       num_genes=len(data), \n",
    "                       init_range_low=-1,\n",
    "                       init_range_high=1)\n",
    "\n",
    "ga_instance.run()\n",
    "solution, solution_fitness, _ = ga_instance.best_solution()\n",
    "\n",
    "result = []\n",
    "for i in range(0, len(data)):\n",
    "    if solution[i] > 0:\n",
    "        result.append(data[i])\n",
    "result_df = pd.DataFrame.from_records(result, columns=['w','v','c'])\n",
    "\n",
    "print(solution_fitness)\n",
    "print(result_df)\n",
    "w, v, c = 0, 0, 0\n",
    "for i in range(0, len(result_df)):\n",
    "    w += result_df.at[i,'w']\n",
    "    v += result_df.at[i,'v']\n",
    "    c += result_df.at[i,'c']\n",
    "print(\"Вес:\", w)\n",
    "print(\"Объем:\", round(v,1))\n",
    "print(\"Ценность:\", c)"
   ]
  },
  {
   "cell_type": "code",
   "execution_count": 18,
   "metadata": {},
   "outputs": [],
   "source": [
    "file=open('kovshov_hw4_1_res.txt','w', encoding='utf-8')\n",
    "file.write(result_df.to_string())\n",
    "file.write(\"\\nВес: \" + str(w))\n",
    "file.write(\"\\nОбъем: \" + str(round(v,1)))\n",
    "file.write(\"\\nЦенность: \" + str(c))\n",
    "file.close()"
   ]
  }
 ]
}