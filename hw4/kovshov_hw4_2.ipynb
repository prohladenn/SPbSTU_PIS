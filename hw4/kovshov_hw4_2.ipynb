{
 "metadata": {
  "language_info": {
   "codemirror_mode": {
    "name": "ipython",
    "version": 3
   },
   "file_extension": ".py",
   "mimetype": "text/x-python",
   "name": "python",
   "nbconvert_exporter": "python",
   "pygments_lexer": "ipython3",
   "version": "3.8.0-final"
  },
  "orig_nbformat": 2,
  "kernelspec": {
   "name": "python3",
   "display_name": "Python 3.8.0 64-bit ('3.8.0')",
   "metadata": {
    "interpreter": {
     "hash": "19765a07afc77596a2e5869b85cb66d522c8e44dd20913bee31a940a547aa535"
    }
   }
  }
 },
 "nbformat": 4,
 "nbformat_minor": 2,
 "cells": [
  {
   "cell_type": "code",
   "execution_count": 1,
   "metadata": {
    "tags": []
   },
   "outputs": [],
   "source": [
    "import numpy as np\n",
    "import pandas as pd\n",
    "import random\n",
    "from random import randint"
   ]
  },
  {
   "cell_type": "code",
   "execution_count": 2,
   "metadata": {},
   "outputs": [
    {
     "output_type": "execute_result",
     "data": {
      "text/plain": [
       "         w    v      c\n",
       "0   1329.0  1.2  179.0\n",
       "1    443.0  1.0  260.0\n",
       "2    407.0  0.6  188.0\n",
       "3    921.0  0.8  259.0\n",
       "4   1083.0  0.4  136.0\n",
       "5    900.0  1.2  197.0\n",
       "6   1332.0  0.5  206.0\n",
       "7    562.0  0.9  291.0\n",
       "8   1197.0  1.1  171.0\n",
       "9    200.0  1.1  135.0\n",
       "10  1214.0  0.7  301.0\n",
       "11   976.0  0.6  131.0\n",
       "12  1344.0  0.9  309.0\n",
       "13   150.0  0.7  259.0\n",
       "14  1512.0  0.5  210.0\n",
       "15   453.0  0.9  273.0\n",
       "16  1101.0  0.9  173.0\n",
       "17   856.0  0.9  300.0\n",
       "18  1361.0  1.2  220.0\n",
       "19   725.0  0.9  258.0\n",
       "20  1044.0  1.2  334.0\n",
       "21  1221.0  0.9  207.0\n",
       "22   373.0  0.8  118.0\n",
       "23  1044.0  0.8  261.0\n",
       "24   288.0  0.6  286.0\n",
       "25   320.0  0.4  142.0\n",
       "26  1695.0  0.7  234.0\n",
       "27  1664.0  0.7  262.0\n",
       "28  1545.0  0.6  254.0\n",
       "29  1008.0  1.1  309.0"
      ],
      "text/html": "<div>\n<style scoped>\n    .dataframe tbody tr th:only-of-type {\n        vertical-align: middle;\n    }\n\n    .dataframe tbody tr th {\n        vertical-align: top;\n    }\n\n    .dataframe thead th {\n        text-align: right;\n    }\n</style>\n<table border=\"1\" class=\"dataframe\">\n  <thead>\n    <tr style=\"text-align: right;\">\n      <th></th>\n      <th>w</th>\n      <th>v</th>\n      <th>c</th>\n    </tr>\n  </thead>\n  <tbody>\n    <tr>\n      <th>0</th>\n      <td>1329.0</td>\n      <td>1.2</td>\n      <td>179.0</td>\n    </tr>\n    <tr>\n      <th>1</th>\n      <td>443.0</td>\n      <td>1.0</td>\n      <td>260.0</td>\n    </tr>\n    <tr>\n      <th>2</th>\n      <td>407.0</td>\n      <td>0.6</td>\n      <td>188.0</td>\n    </tr>\n    <tr>\n      <th>3</th>\n      <td>921.0</td>\n      <td>0.8</td>\n      <td>259.0</td>\n    </tr>\n    <tr>\n      <th>4</th>\n      <td>1083.0</td>\n      <td>0.4</td>\n      <td>136.0</td>\n    </tr>\n    <tr>\n      <th>5</th>\n      <td>900.0</td>\n      <td>1.2</td>\n      <td>197.0</td>\n    </tr>\n    <tr>\n      <th>6</th>\n      <td>1332.0</td>\n      <td>0.5</td>\n      <td>206.0</td>\n    </tr>\n    <tr>\n      <th>7</th>\n      <td>562.0</td>\n      <td>0.9</td>\n      <td>291.0</td>\n    </tr>\n    <tr>\n      <th>8</th>\n      <td>1197.0</td>\n      <td>1.1</td>\n      <td>171.0</td>\n    </tr>\n    <tr>\n      <th>9</th>\n      <td>200.0</td>\n      <td>1.1</td>\n      <td>135.0</td>\n    </tr>\n    <tr>\n      <th>10</th>\n      <td>1214.0</td>\n      <td>0.7</td>\n      <td>301.0</td>\n    </tr>\n    <tr>\n      <th>11</th>\n      <td>976.0</td>\n      <td>0.6</td>\n      <td>131.0</td>\n    </tr>\n    <tr>\n      <th>12</th>\n      <td>1344.0</td>\n      <td>0.9</td>\n      <td>309.0</td>\n    </tr>\n    <tr>\n      <th>13</th>\n      <td>150.0</td>\n      <td>0.7</td>\n      <td>259.0</td>\n    </tr>\n    <tr>\n      <th>14</th>\n      <td>1512.0</td>\n      <td>0.5</td>\n      <td>210.0</td>\n    </tr>\n    <tr>\n      <th>15</th>\n      <td>453.0</td>\n      <td>0.9</td>\n      <td>273.0</td>\n    </tr>\n    <tr>\n      <th>16</th>\n      <td>1101.0</td>\n      <td>0.9</td>\n      <td>173.0</td>\n    </tr>\n    <tr>\n      <th>17</th>\n      <td>856.0</td>\n      <td>0.9</td>\n      <td>300.0</td>\n    </tr>\n    <tr>\n      <th>18</th>\n      <td>1361.0</td>\n      <td>1.2</td>\n      <td>220.0</td>\n    </tr>\n    <tr>\n      <th>19</th>\n      <td>725.0</td>\n      <td>0.9</td>\n      <td>258.0</td>\n    </tr>\n    <tr>\n      <th>20</th>\n      <td>1044.0</td>\n      <td>1.2</td>\n      <td>334.0</td>\n    </tr>\n    <tr>\n      <th>21</th>\n      <td>1221.0</td>\n      <td>0.9</td>\n      <td>207.0</td>\n    </tr>\n    <tr>\n      <th>22</th>\n      <td>373.0</td>\n      <td>0.8</td>\n      <td>118.0</td>\n    </tr>\n    <tr>\n      <th>23</th>\n      <td>1044.0</td>\n      <td>0.8</td>\n      <td>261.0</td>\n    </tr>\n    <tr>\n      <th>24</th>\n      <td>288.0</td>\n      <td>0.6</td>\n      <td>286.0</td>\n    </tr>\n    <tr>\n      <th>25</th>\n      <td>320.0</td>\n      <td>0.4</td>\n      <td>142.0</td>\n    </tr>\n    <tr>\n      <th>26</th>\n      <td>1695.0</td>\n      <td>0.7</td>\n      <td>234.0</td>\n    </tr>\n    <tr>\n      <th>27</th>\n      <td>1664.0</td>\n      <td>0.7</td>\n      <td>262.0</td>\n    </tr>\n    <tr>\n      <th>28</th>\n      <td>1545.0</td>\n      <td>0.6</td>\n      <td>254.0</td>\n    </tr>\n    <tr>\n      <th>29</th>\n      <td>1008.0</td>\n      <td>1.1</td>\n      <td>309.0</td>\n    </tr>\n  </tbody>\n</table>\n</div>"
     },
     "metadata": {},
     "execution_count": 2
    }
   ],
   "source": [
    "df = pd.read_csv('../resources/10.txt', delimiter=' ', engine='python')\n",
    "parameters = df.columns.tolist()\n",
    "df.columns = ['v', 'c']\n",
    "df['w'] = df.index\n",
    "data = df[['w','v','c']].values.tolist()\n",
    "data = pd.DataFrame.from_records(data, columns=['w','v','c'])\n",
    "\n",
    "data"
   ]
  },
  {
   "cell_type": "code",
   "execution_count": 3,
   "metadata": {},
   "outputs": [],
   "source": [
    "initialPopulation = 200 \n",
    "numGenes = len(data) \n",
    "W = int(parameters[0]) \n",
    "V = int(parameters[1]) \n",
    "print('Лимиты:')\n",
    "print('Вес:', W)\n",
    "print('Объём:', V)"
   ]
  },
  {
   "cell_type": "code",
   "execution_count": 4,
   "metadata": {},
   "outputs": [],
   "source": [
    "def checkW(individual):\n",
    "    sumW = 0\n",
    "    for i in range (0, numGenes):\n",
    "        sumW += data.at[i,'w'] * individual[i]\n",
    "    if sumW > W:\n",
    "        return 0\n",
    "    else: \n",
    "        return 1\n",
    "\n",
    "def checkV(individual):\n",
    "    sumV = 0\n",
    "    for i in range (0, numGenes):\n",
    "        sumV += data.at[i,'v'] * individual[i]\n",
    "    if sumV > V:\n",
    "        return 0\n",
    "    else: \n",
    "        return 1"
   ]
  },
  {
   "cell_type": "code",
   "execution_count": 5,
   "metadata": {},
   "outputs": [],
   "source": [
    "def createIndividual():\n",
    "    individual = []\n",
    "    for i in range(0, len(data)):\n",
    "        individual.append(0)\n",
    "    startIndex = randint(0, len(data) - 1)\n",
    "    sumWeight = 0\n",
    "    sumCapacity = 0\n",
    "    for i in range(startIndex, len(data)):\n",
    "        if (sumWeight + data.at[i,'w'] <= W) and (sumCapacity + data.at[i,'v'] <= V):\n",
    "            individual[i] = 1\n",
    "            sumWeight += data.at[i,'w']\n",
    "            sumCapacity += data.at[i,'v']\n",
    "    for i in range(0,startIndex):\n",
    "        if (sumWeight + data.at[i,'w'] <= W) and (sumCapacity + data.at[i,'v'] <= V):\n",
    "            individual[i] = 1\n",
    "            sumWeight += data.at[i,'w']\n",
    "            sumCapacity += data.at[i,'v']\n",
    "    return individual\n",
    "\n",
    "def createInitialPopulation():\n",
    "    return [createIndividual() for _ in range(0, initialPopulation)]"
   ]
  },
  {
   "cell_type": "code",
   "execution_count": 6,
   "metadata": {},
   "outputs": [],
   "source": [
    "def individualC(individual):\n",
    "    sumC = 0\n",
    "    for i in range(0, numGenes):\n",
    "        sumC += data.at[i,'c'] * individual[i]\n",
    "    return sumC"
   ]
  },
  {
   "cell_type": "code",
   "execution_count": 7,
   "metadata": {},
   "outputs": [],
   "source": [
    "def selection(population):\n",
    "    res_individuals = []\n",
    "    individuals = [] \n",
    "    for i in range(len(population)):\n",
    "        individuals.append(individualC(population[i]))\n",
    "    \n",
    "    max_fitness = max(individuals)\n",
    "    min_fitness = min(individuals)\n",
    "\n",
    "    for m in range(len(individuals)):\n",
    "        if random.random() < individuals[m]/max_fitness:\n",
    "            res_individuals.append(population[m])\n",
    "    return res_individuals"
   ]
  },
  {
   "cell_type": "code",
   "execution_count": 8,
   "metadata": {},
   "outputs": [],
   "source": [
    "def newChild(mother, father):\n",
    "    child = []\n",
    "    mask = [randint(0, 1) for x in range(numGenes)]\n",
    "    for i in range(0, len(mask)):\n",
    "        if mask[i] == 1:\n",
    "            child.append(mother[i])\n",
    "        else:\n",
    "            child.append(father[i])\n",
    "    return child\n",
    "\n",
    "def crossingover(population):\n",
    "    childs = []\n",
    "    while len(population) > 0:\n",
    "        random.shuffle(population)\n",
    "        mother = population.pop()\n",
    "        if len(population) == 0:\n",
    "            break\n",
    "        father = population.pop()\n",
    "        child1 = newChild(mother, father)\n",
    "        child2 = newChild(mother, father)\n",
    "        if checkV(child1) and checkW(child1):\n",
    "            childs.append(child1)\n",
    "        if checkV(child2) and checkW(child2):\n",
    "            childs.append(child2)\n",
    "    return childs"
   ]
  },
  {
   "cell_type": "code",
   "execution_count": 9,
   "metadata": {},
   "outputs": [],
   "source": [
    "def mutation(person):\n",
    "    for i in range(0, len(person)):\n",
    "        if person[i] == 0:\n",
    "            person[i] = 1\n",
    "        else:\n",
    "            person[i] = 0\n",
    "    return person"
   ]
  },
  {
   "cell_type": "code",
   "execution_count": 10,
   "metadata": {},
   "outputs": [],
   "source": [
    "def GA():\n",
    "\n",
    "    c = []\n",
    "    C = 0\n",
    "    for i in range (0, len(data)):\n",
    "        c.append(data.at[i,'c'])\n",
    "    for i in range (0, len(c)):\n",
    "        C += c[i]\n",
    "    \n",
    "    minC = min(c)\n",
    "    oldC = 0\n",
    "    newC = C\n",
    "    maxIteration = 500\n",
    "\n",
    "    # Начальная популяция\n",
    "    population = createInitialPopulation()\n",
    "\n",
    "    while maxIteration > 0:\n",
    "        if maxIteration % 10 == 0:\n",
    "            print(maxIteration / 10)\n",
    "\n",
    "        # Отбор\n",
    "        population = selection(population)\n",
    "\n",
    "        # Скрещивание\n",
    "        childs = crossingover(population.copy())\n",
    "\n",
    "        # Мутация\n",
    "        rndIndividualInd = randint(0, len(population) - 1)\n",
    "        population[rndIndividualInd] = mutation(population[rndIndividualInd])\n",
    "\n",
    "        # Новая популяция\n",
    "        for individual in population:\n",
    "            individual.append(individualC(individual) * 0.9)\n",
    "        for child in childs:\n",
    "            child.append(individualC(child))\n",
    "        population.extend(childs)\n",
    "        population = list(filter(lambda x: checkW(x) and checkV(x), population))\n",
    "        population.sort(key=lambda x: individualC(x), reverse=True)\n",
    "        population = population[0:200]\n",
    "        bestIndividual = population[0]\n",
    "\n",
    "        maxIteration -= 1\n",
    "    return bestIndividual"
   ]
  },
  {
   "cell_type": "code",
   "execution_count": 11,
   "metadata": {},
   "outputs": [
    {
     "output_type": "stream",
     "name": "stdout",
     "text": [
      "50.0\n",
      "49.0\n",
      "48.0\n",
      "47.0\n",
      "46.0\n",
      "45.0\n",
      "44.0\n",
      "43.0\n",
      "42.0\n",
      "41.0\n",
      "40.0\n",
      "39.0\n",
      "38.0\n",
      "37.0\n",
      "36.0\n",
      "35.0\n",
      "34.0\n",
      "33.0\n",
      "32.0\n",
      "31.0\n",
      "30.0\n",
      "29.0\n",
      "28.0\n",
      "27.0\n",
      "26.0\n",
      "25.0\n",
      "24.0\n",
      "23.0\n",
      "22.0\n",
      "21.0\n",
      "20.0\n",
      "19.0\n",
      "18.0\n",
      "17.0\n",
      "16.0\n",
      "15.0\n",
      "14.0\n",
      "13.0\n",
      "12.0\n",
      "11.0\n",
      "10.0\n",
      "9.0\n",
      "8.0\n",
      "7.0\n",
      "6.0\n",
      "5.0\n",
      "4.0\n",
      "3.0\n",
      "2.0\n",
      "1.0\n"
     ]
    }
   ],
   "source": [
    "bestIndividual = GA()"
   ]
  },
  {
   "cell_type": "code",
   "execution_count": 12,
   "metadata": {},
   "outputs": [],
   "source": [
    "sumW, sumV, sumC = 0, 0, 0\n",
    "result = []\n",
    "for i in range(numGenes):\n",
    "    sumW += bestIndividual[i] * data.at[i,'w']\n",
    "    sumV += bestIndividual[i] * data.at[i,'v']\n",
    "    sumC += bestIndividual[i] * data.at[i,'c']\n",
    "    if bestIndividual[i] == 1:\n",
    "        result.append([data.at[i,'w'], data.at[i,'v'], data.at[i,'c']])\n",
    "result_df = pd.DataFrame.from_records(result, columns=['w','v','c'])"
   ]
  },
  {
   "cell_type": "code",
   "execution_count": 13,
   "metadata": {},
   "outputs": [
    {
     "output_type": "stream",
     "name": "stdout",
     "text": [
      "         w    v      c\n0    443.0  1.0  260.0\n1    407.0  0.6  188.0\n2    921.0  0.8  259.0\n3    562.0  0.9  291.0\n4   1214.0  0.7  301.0\n5    976.0  0.6  131.0\n6   1344.0  0.9  309.0\n7    150.0  0.7  259.0\n8    453.0  0.9  273.0\n9    856.0  0.9  300.0\n10   725.0  0.9  258.0\n11  1044.0  0.8  261.0\n12   288.0  0.6  286.0\n13   320.0  0.4  142.0\n14  1664.0  0.7  262.0\n15  1545.0  0.6  254.0\nВес: 12912.0\nОбъем: 12.0\nЦенность: 4034.0\n"
     ]
    }
   ],
   "source": [
    "print(result_df)\n",
    "print(\"Вес:\", sumW)\n",
    "print(\"Объем:\", round(sumV,1))\n",
    "print(\"Ценность:\", sumC)"
   ]
  },
  {
   "cell_type": "code",
   "execution_count": 15,
   "metadata": {},
   "outputs": [],
   "source": [
    "file=open('kovshov_hw4_2_res.txt','w', encoding='utf-8')\n",
    "file.write(result_df.to_string())\n",
    "file.write(\"\\nВес: \" + str(sumW))\n",
    "file.write(\"\\nОбъем: \" + str(round(sumV,1)))\n",
    "file.write(\"\\nЦенность: \" + str(sumC))\n",
    "file.close()"
   ]
  }
 ]
}