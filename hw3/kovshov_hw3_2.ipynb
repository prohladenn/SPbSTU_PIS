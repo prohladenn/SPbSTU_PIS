{
 "metadata": {
  "language_info": {
   "codemirror_mode": {
    "name": "ipython",
    "version": 3
   },
   "file_extension": ".py",
   "mimetype": "text/x-python",
   "name": "python",
   "nbconvert_exporter": "python",
   "pygments_lexer": "ipython3",
   "version": "3.8.0-final"
  },
  "orig_nbformat": 2,
  "kernelspec": {
   "name": "python3",
   "display_name": "Python 3.8.0 64-bit ('3.8.0')",
   "metadata": {
    "interpreter": {
     "hash": "19765a07afc77596a2e5869b85cb66d522c8e44dd20913bee31a940a547aa535"
    }
   }
  }
 },
 "nbformat": 4,
 "nbformat_minor": 2,
 "cells": [
  {
   "cell_type": "code",
   "execution_count": 1,
   "metadata": {
    "tags": []
   },
   "outputs": [],
   "source": [
    "from SPARQLWrapper import SPARQLWrapper, JSON\n",
    "from tabulate import tabulate\n",
    "import statistics as stat\n",
    "import pandas as pd\n",
    "import numpy as np\n",
    "import requests\n",
    "import math\n",
    "import json"
   ]
  },
  {
   "cell_type": "code",
   "execution_count": 2,
   "metadata": {},
   "outputs": [
    {
     "output_type": "stream",
     "name": "stdout",
     "text": [
      "{\n    \"user\": 12,\n    \"1\": {\n        \"Movie 4\": 3.538,\n        \"Movie 6\": 3.92,\n        \"Movie 11\": 2.556,\n        \"Movie 20\": 3.591\n    },\n    \"2\": {\n        \"Movie 4\": 3.199\n    }\n}\n"
     ]
    }
   ],
   "source": [
    "# Задание 2.1\n",
    "# 0. Чтение данных из подготовленных файлов и объявление констант.\n",
    "data = pd.read_csv(\"../resources/data.csv\", delimiter=', ').drop(columns=[\"Unnamed: 0\"])\n",
    "context_day = pd.read_csv(\"../resources/context_day.csv\", delimiter=', ').drop(columns=[\"Unnamed: 0\"])\n",
    "context_place = pd.read_csv(\"../resources/context_place.csv\", delimiter=', ').drop(columns=[\"Unnamed: 0\"])\n",
    "\n",
    "my_index = 11\n",
    "non_rated = -1\n",
    "\n",
    "home = 'h'\n",
    "non_home = ['v', 'c']\n",
    "\n",
    "weekends = ['Sat', 'Sun']\n",
    "non_weekends = ['Mon', 'Tue', 'Wed', 'Thu', 'Fri']\n",
    "\n",
    "def r3(x):\n",
    "    return round(x, 3)\n",
    "\n",
    "# 1. Для заданного пользователя (12 Ковшов Валерий) рассчитать оценки для всех фильмов, которые он не оценил.\n",
    "my_data_row = data.iloc[[my_index]].values[0]\n",
    "row_len = len(my_data_row)\n",
    "\n",
    "sims = {}\n",
    "for row_index in range(len(data)):\n",
    "    if row_index == my_index:\n",
    "        continue\n",
    "    user_data_row = data.iloc[[row_index]].values[0]\n",
    "    sum_ui_vi = 0\n",
    "    sum_ui = 0\n",
    "    sum_vi = 0\n",
    "    for column_index in range(row_len):\n",
    "        my_data_cell = my_data_row[column_index]\n",
    "        user_data_cell = user_data_row[column_index]\n",
    "        if (my_data_cell != non_rated) & (user_data_cell != non_rated):\n",
    "            sum_ui_vi += my_data_cell * user_data_cell\n",
    "            sum_ui += my_data_cell ** 2\n",
    "            sum_vi += user_data_cell ** 2\n",
    "    sim_u_v = r3(sum_ui_vi / (math.sqrt(sum_ui) * math.sqrt(sum_vi)))\n",
    "    sims[row_index] = sim_u_v\n",
    "\n",
    "sorted_sims = dict(sorted(sims.items(), key=lambda x: x[1], reverse=True))\n",
    "\n",
    "avg_for_user = {}\n",
    "for row_index in range(len(data)):\n",
    "    avg = 0\n",
    "    count = 0\n",
    "    data_row = data.iloc[[row_index]].values[0]\n",
    "    for column_index in range(row_len):\n",
    "        data_cell = data_row[column_index]\n",
    "        if data_cell != non_rated:\n",
    "            avg += data_cell\n",
    "            count += 1\n",
    "    avg_for_user[row_index] = r3(avg / count)\n",
    "\n",
    "my_non_rated = []\n",
    "future_rate = {}\n",
    "for movie_index in range(row_len):\n",
    "    if my_data_row[movie_index] == non_rated:\n",
    "        my_non_rated.append(movie_index)\n",
    "        sum_numerator = 0\n",
    "        sum_denominator = 0\n",
    "        count = 0\n",
    "        for user_index in sorted_sims:\n",
    "            user_rate = data.iloc[[user_index]].values[0][movie_index]\n",
    "            if user_rate == non_rated:\n",
    "                count += 1\n",
    "            elif count == 4:\n",
    "                break\n",
    "            else:\n",
    "                count += 1\n",
    "                sum_numerator += sims[user_index] * (user_rate - avg_for_user[user_index]) \n",
    "                sum_denominator += sims[user_index]\n",
    "        future_rate[data.columns[movie_index]] = r3(avg_for_user[my_index] + sum_numerator / sum_denominator)\n",
    "\n",
    "# 2. Порекомендовать заданному пользователю 1 фильм, который он посмотрел бы в выходной дома, если такой фильм есть в данных.\n",
    "# Мы будем выбирать из фильмов, которые пользователь ещё не смотрел иначе какой смысл? Ориенироваться при выборе будем на оценки пользователей, которые смотрели эти фильмы (которые не видел заданный пользователь) дома в выходные с учётом соотношения вкусов этих пользователей с вкусами заданного пользователя.\n",
    "avg_for_movie = {}\n",
    "for column_index in range(len(my_non_rated)):\n",
    "    avg = 0\n",
    "    count = 0\n",
    "    data_column = data[data.columns[my_non_rated[column_index]]]\n",
    "    for row_index in range(len(data)):\n",
    "        data_cell = data_column[row_index]\n",
    "        if data_cell != non_rated:\n",
    "            avg += data_cell\n",
    "            count += 1\n",
    "    avg_for_movie[my_non_rated[column_index]] = r3(avg / count)\n",
    "\n",
    "context_day_for_non_rated = context_day[context_day.columns[my_non_rated]]\n",
    "context_day_for_non_rated_at_weekends = context_day_for_non_rated.replace(weekends, 1).replace(non_weekends, 0)\n",
    "\n",
    "context_place_for_non_rated = context_place[context_place.columns[my_non_rated]]\n",
    "context_place_for_non_rated_at_home = context_place_for_non_rated.replace(home, 1).replace(non_home, 0)\n",
    "\n",
    "weekends_at_home = {}\n",
    "for user_index in range(len(data)):\n",
    "    weekends_at_home[user_index] = []\n",
    "    user_context_day = context_day_for_non_rated_at_weekends.iloc[[user_index]].values[0]\n",
    "    user_context_place = context_place_for_non_rated_at_home.iloc[[user_index]].values[0]\n",
    "    for movie_index in range(len(my_non_rated)):\n",
    "        context_day_cell = int(user_context_day[movie_index])\n",
    "        context_place_cell = int(user_context_place[movie_index])\n",
    "        if context_day_cell == 1 & context_place_cell == 1:\n",
    "            weekends_at_home[user_index].append(True)\n",
    "        else:\n",
    "            weekends_at_home[user_index].append(False)\n",
    "\n",
    "rate_for_non_rated_at_weekends_at_home = {}\n",
    "for movie_index in range(len(my_non_rated)):\n",
    "    sum_numerator = 0\n",
    "    sum_denominator = 0\n",
    "    for user_index in weekends_at_home:\n",
    "        if weekends_at_home[user_index][movie_index] == False:\n",
    "            continue\n",
    "        sum_numerator += sims[user_index] * (data.iloc[[user_index]].values[0][my_non_rated[movie_index]] - avg_for_movie[my_non_rated[movie_index]])\n",
    "        sum_denominator += sims[user_index]\n",
    "    rate_for_non_rated_at_weekends_at_home[data.columns[my_non_rated[movie_index]]] = avg_for_movie[my_non_rated[movie_index]] + r3(sum_numerator / sum_denominator)\n",
    "top_movie_for_weekends_at_home_tuple = sorted(rate_for_non_rated_at_weekends_at_home.items(), key=lambda x: x[1], reverse=True)[0]\n",
    "top_movie_for_weekends_at_home = {top_movie_for_weekends_at_home_tuple[0]: top_movie_for_weekends_at_home_tuple[1]}\n",
    "\n",
    "# 3. Заполнение json файла.\n",
    "user = my_index + 1\n",
    "ans_part1 = json.dumps(future_rate, sort_keys=True, indent=4)\n",
    "ans_part2 = json.dumps(top_movie_for_weekends_at_home, sort_keys=True, indent=4) \n",
    "result = json.dumps({'user': user,'1': future_rate, '2': top_movie_for_weekends_at_home}, indent=4)\n",
    "print(result)"
   ]
  },
  {
   "cell_type": "code",
   "execution_count": 3,
   "metadata": {},
   "outputs": [
    {
     "output_type": "execute_result",
     "data": {
      "text/plain": [
       "{'Movie 4': 'The Dark Knight',\n",
       " 'Movie 6': \"Schindler's List\",\n",
       " 'Movie 11': 'The Lord of the Rings: The Fellowship of the Ring',\n",
       " 'Movie 20': 'City of God'}"
      ]
     },
     "metadata": {},
     "execution_count": 3
    }
   ],
   "source": [
    "# Задание 3.2\n",
    "movie_names = pd.read_csv(\"../resources/movie_names.csv\", delimiter=', ')\n",
    "movie_to_name = dict(movie_names.values[[i - 1 for i in my_non_rated]])\n",
    "movie_to_name"
   ]
  },
  {
   "cell_type": "code",
   "execution_count": 4,
   "metadata": {},
   "outputs": [
    {
     "output_type": "stream",
     "name": "stdout",
     "text": [
      "\n",
      "Expected title:\t The Dark Knight \n",
      "Actual title:\t The Dark Knight \n",
      "Description:\t 2008 British-American superhero film directed by Christopher Nolan \n",
      "Id:\t\t Q163872\n",
      "\n",
      "Expected title:\t Schindler's List \n",
      "Actual title:\t Schindler's List \n",
      "Description:\t 1993 film by Steven Spielberg \n",
      "Id:\t\t Q483941\n",
      "\n",
      "Expected title:\t The Lord of the Rings: The Fellowship of the Ring \n",
      "Actual title:\t The Lord of the Rings: The Fellowship of the Ring \n",
      "Description:\t 2001 film directed by Peter Jackson \n",
      "Id:\t\t Q127367\n",
      "\n",
      "Expected title:\t City of God \n",
      "Actual title:\t City of God \n",
      "Description:\t 2002 film directed by Fernando Meirelles and Kátia Lund \n",
      "Id:\t\t Q220741\n"
     ]
    },
    {
     "output_type": "execute_result",
     "data": {
      "text/plain": [
       "{'Movie 4': 'Q163872',\n",
       " 'Movie 6': 'Q483941',\n",
       " 'Movie 11': 'Q127367',\n",
       " 'Movie 20': 'Q220741'}"
      ]
     },
     "metadata": {},
     "execution_count": 4
    }
   ],
   "source": [
    "API_ENDPOINT = \"https://www.wikidata.org/w/api.php\"\n",
    "\n",
    "movie_to_id = {}\n",
    "for movie in movie_to_name:\n",
    "    expected_label = movie_to_name[movie]\n",
    "    params = {\n",
    "        'action' : 'wbsearchentities',\n",
    "        'format' : 'json',\n",
    "        'language' : 'en',\n",
    "        'search': expected_label\n",
    "    }\n",
    "    res = requests.get(API_ENDPOINT, params = params)\n",
    "    json_search = res.json()['search']\n",
    "    film = {}\n",
    "    for i in range(len(json_search)):\n",
    "        if \"film\" in json_search[i]['description']:\n",
    "            film = json_search[i]\n",
    "            break\n",
    "    print(\n",
    "        \"\\nExpected title:\\t\", expected_label,\n",
    "        \"\\nActual title:\\t\", film['label'],\n",
    "        \"\\nDescription:\\t\", film['description'],\n",
    "        \"\\nId:\\t\\t\", film['id']\n",
    "    )\n",
    "    movie_to_id[movie] = film['id']\n",
    "movie_to_id"
   ]
  },
  {
   "cell_type": "code",
   "execution_count": 5,
   "metadata": {},
   "outputs": [
    {
     "output_type": "stream",
     "name": "stdout",
     "text": [
      "Movie 4 \n +----+-------------------+-------------------+---------------------------------+\n|    | filmLabel.value   |   yearLabel.value | cannesAwardLabel.value          |\n|----+-------------------+-------------------+---------------------------------|\n|  0 | Gomorrah          |              2008 | Cannes Film Festival Grand Prix |\n|  1 | Hunger            |              2008 | Caméra d'Or                     |\n|  2 | The Class         |              2008 | Palme d'Or                      |\n|  3 | Il Divo           |              2008 | Jury Prize                      |\n+----+-------------------+-------------------+---------------------------------+ \n\nMovie 6 \n +----+-----------------------+-------------------+---------------------------------------------+\n|    | filmLabel.value       |   yearLabel.value | cannesAwardLabel.value                      |\n|----+-----------------------+-------------------+---------------------------------------------|\n|  0 | The Piano             |              1993 | Cannes Film Festival Award for Best Actress |\n|  1 | Faraway, So Close!    |              1993 | Cannes Film Festival Grand Prix             |\n|  2 | Raining Stones        |              1993 | Jury Prize                                  |\n|  3 | Farewell My Concubine |              1993 | Palme d'Or                                  |\n|  4 | The Piano             |              1993 | Palme d'Or                                  |\n+----+-----------------------+-------------------+---------------------------------------------+ \n\nMovie 11 \n +----+-------------------+-------------------+---------------------------------+\n|    | filmLabel.value   |   yearLabel.value | cannesAwardLabel.value          |\n|----+-------------------+-------------------+---------------------------------|\n|  0 | The Piano Teacher |              2001 | Cannes Film Festival Grand Prix |\n|  1 | Bean Cake         |              2001 | Short Film Palme d'Or           |\n|  2 | The Son's Room    |              2001 | Palme d'Or                      |\n+----+-------------------+-------------------+---------------------------------+ \n\nMovie 20 \n +----+------------------------+-------------------+---------------------------------+\n|    | filmLabel.value        |   yearLabel.value | cannesAwardLabel.value          |\n|----+------------------------+-------------------+---------------------------------|\n|  0 | The Man Without a Past |              2002 | Cannes Film Festival Grand Prix |\n|  1 | The Pianist            |              2002 | Palme d'Or                      |\n+----+------------------------+-------------------+---------------------------------+ \n\n"
     ]
    }
   ],
   "source": [
    "sparql = SPARQLWrapper(\"https://query.wikidata.org/sparql\")\n",
    "\n",
    "movie_to_results_df = {}\n",
    "for movie in movie_to_id:\n",
    "    id = movie_to_id[movie]\n",
    "    sparql_query = \"\"\"\n",
    "\n",
    "SELECT\n",
    "  ?filmLabel\n",
    "  ?yearLabel\n",
    "  ?cannesAwardLabel\n",
    "WHERE {\n",
    "  { SELECT (MIN(YEAR(?publicationDate)) AS ?year) WHERE { wd:\"\"\" + id + \"\"\" wdt:P577 ?publicationDate. } }\n",
    "  ?cannesAward wdt:P31 wd:Q28444913.\n",
    "  ?awardStatement ps:P166 ?cannesAward;\n",
    "                  pq:P585 ?awardDate.\n",
    "  ?film wdt:P31 wd:Q11424;\n",
    "        p:P166 ?awardStatement.\n",
    "  FILTER((YEAR(?awardDate)) = ?year )\n",
    "  SERVICE wikibase:label { bd:serviceParam wikibase:language \"en\". }\n",
    "}\n",
    " \n",
    "\"\"\"\n",
    "    sparql.setQuery(sparql_query)\n",
    "    sparql.setReturnFormat(JSON)\n",
    "    results = sparql.query().convert()\n",
    "    results_df = pd.io.json.json_normalize(results['results']['bindings'])\n",
    "    movie_to_results_df[movie] = results_df[['filmLabel.value', 'yearLabel.value', 'cannesAwardLabel.value']].head()\n",
    "\n",
    "for movie in movie_to_results_df:\n",
    "    print(\n",
    "        movie, \"\\n\",\n",
    "        tabulate(movie_to_results_df[movie], headers='keys', tablefmt='psql'), \"\\n\"\n",
    "    )"
   ]
  }
 ]
}