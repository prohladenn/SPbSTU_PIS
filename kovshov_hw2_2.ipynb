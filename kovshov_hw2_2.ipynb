{
 "cells": [
  {
   "cell_type": "code",
   "execution_count": 1,
   "metadata": {},
   "outputs": [],
   "source": [
    "import io\n",
    "import pandas as pd\n",
    "from collections import defaultdict\n",
    "from surprise import Dataset\n",
    "from surprise import NormalPredictor\n",
    "from surprise import SVD\n",
    "from surprise import KNNWithMeans\n",
    "from surprise import get_dataset_dir\n",
    "from surprise.model_selection import cross_validate\n",
    "from surprise.model_selection import train_test_split"
   ]
  },
  {
   "cell_type": "code",
   "execution_count": 2,
   "metadata": {},
   "outputs": [],
   "source": [
    "# Чтение данных из подготовленных файлов и объявление констант.\n",
    "n = 5\n",
    "threshold = 3.52\n",
    "user = '10'\n",
    "measure = ['RMSE']\n",
    "verbose = True\n",
    "test_rmse = 'test_rmse'\n",
    "\n",
    "data = Dataset.load_builtin('ml-100k')\n",
    "trainset, testset = train_test_split(data, test_size=.25)"
   ]
  },
  {
   "cell_type": "code",
   "execution_count": 3,
   "metadata": {},
   "outputs": [],
   "source": [
    "# Define algorithms\n",
    "k = 30\n",
    "algos = {\n",
    "    'NP': NormalPredictor(),\n",
    "    'KNN_cos': KNNWithMeans(k = k, sim_options = { 'name': 'cosine' }),\n",
    "    'KNN_MSD': KNNWithMeans(k = k),\n",
    "    'KNN_pearson': KNNWithMeans(k = k, sim_options = { 'name': 'pearson' }),\n",
    "    'svd' : SVD()\n",
    "}"
   ]
  },
  {
   "cell_type": "code",
   "execution_count": 4,
   "metadata": {},
   "outputs": [
    {
     "output_type": "stream",
     "name": "stdout",
     "text": [
      "Evaluating RMSE of algorithm NormalPredictor on 5 split(s).\n",
      "\n",
      "                  Fold 1  Fold 2  Fold 3  Fold 4  Fold 5  Mean    Std     \n",
      "RMSE (testset)    1.5214  1.5200  1.5198  1.5218  1.5093  1.5184  0.0046  \n",
      "Fit time          0.15    0.15    0.15    0.16    0.15    0.15    0.00    \n",
      "Test time         0.24    0.16    0.20    0.20    0.16    0.19    0.03    \n",
      "Computing the cosine similarity matrix...\n",
      "Done computing similarity matrix.\n",
      "Computing the cosine similarity matrix...\n",
      "Done computing similarity matrix.\n",
      "Computing the cosine similarity matrix...\n",
      "Done computing similarity matrix.\n",
      "Computing the cosine similarity matrix...\n",
      "Done computing similarity matrix.\n",
      "Computing the cosine similarity matrix...\n",
      "Done computing similarity matrix.\n",
      "Evaluating RMSE of algorithm KNNWithMeans on 5 split(s).\n",
      "\n",
      "                  Fold 1  Fold 2  Fold 3  Fold 4  Fold 5  Mean    Std     \n",
      "RMSE (testset)    0.9569  0.9505  0.9598  0.9686  0.9552  0.9582  0.0060  \n",
      "Fit time          0.87    0.88    0.88    0.91    1.09    0.93    0.08    \n",
      "Test time         3.81    3.51    3.46    3.68    3.71    3.63    0.13    \n",
      "Computing the msd similarity matrix...\n",
      "Done computing similarity matrix.\n",
      "Computing the msd similarity matrix...\n",
      "Done computing similarity matrix.\n",
      "Computing the msd similarity matrix...\n",
      "Done computing similarity matrix.\n",
      "Computing the msd similarity matrix...\n",
      "Done computing similarity matrix.\n",
      "Computing the msd similarity matrix...\n",
      "Done computing similarity matrix.\n",
      "Evaluating RMSE of algorithm KNNWithMeans on 5 split(s).\n",
      "\n",
      "                  Fold 1  Fold 2  Fold 3  Fold 4  Fold 5  Mean    Std     \n",
      "RMSE (testset)    0.9497  0.9516  0.9547  0.9575  0.9479  0.9523  0.0035  \n",
      "Fit time          0.35    0.41    0.41    0.44    0.40    0.40    0.03    \n",
      "Test time         3.61    3.63    3.62    3.61    3.47    3.59    0.06    \n",
      "Computing the pearson similarity matrix...\n",
      "Done computing similarity matrix.\n",
      "Computing the pearson similarity matrix...\n",
      "Done computing similarity matrix.\n",
      "Computing the pearson similarity matrix...\n",
      "Done computing similarity matrix.\n",
      "Computing the pearson similarity matrix...\n",
      "Done computing similarity matrix.\n",
      "Computing the pearson similarity matrix...\n",
      "Done computing similarity matrix.\n",
      "Evaluating RMSE of algorithm KNNWithMeans on 5 split(s).\n",
      "\n",
      "                  Fold 1  Fold 2  Fold 3  Fold 4  Fold 5  Mean    Std     \n",
      "RMSE (testset)    0.9545  0.9542  0.9529  0.9580  0.9427  0.9525  0.0052  \n",
      "Fit time          1.21    1.28    1.23    1.25    1.27    1.25    0.02    \n",
      "Test time         3.57    3.60    3.46    3.51    3.48    3.52    0.05    \n",
      "Evaluating RMSE of algorithm SVD on 5 split(s).\n",
      "\n",
      "                  Fold 1  Fold 2  Fold 3  Fold 4  Fold 5  Mean    Std     \n",
      "RMSE (testset)    0.9381  0.9357  0.9391  0.9293  0.9410  0.9366  0.0040  \n",
      "Fit time          5.25    5.80    5.71    5.54    5.64    5.59    0.19    \n",
      "Test time         0.17    0.26    0.26    0.17    0.28    0.23    0.05    \n"
     ]
    }
   ],
   "source": [
    "# Cross validation\n",
    "crv = {}\n",
    "for algo in algos:\n",
    "    crv[algo] = cross_validate(algos[algo], data, measures = measure, verbose = verbose)"
   ]
  },
  {
   "cell_type": "code",
   "execution_count": 5,
   "metadata": {},
   "outputs": [
    {
     "output_type": "execute_result",
     "data": {
      "text/plain": [
       "{'NP': 1.518,\n",
       " 'KNN_cos': 0.958,\n",
       " 'KNN_MSD': 0.952,\n",
       " 'KNN_pearson': 0.952,\n",
       " 'svd': 0.937}"
      ]
     },
     "metadata": {},
     "execution_count": 5
    }
   ],
   "source": [
    "RSMA = {}\n",
    "for cv in crv:\n",
    "    RSMA[cv] = round(crv[cv][test_rmse].mean(), 3)\n",
    "RSMA"
   ]
  },
  {
   "cell_type": "code",
   "execution_count": 6,
   "metadata": {},
   "outputs": [
    {
     "output_type": "execute_result",
     "data": {
      "text/plain": [
       "'svd'"
      ]
     },
     "metadata": {},
     "execution_count": 6
    }
   ],
   "source": [
    "# Best algorithm\n",
    "best_algorithm_name = min(RSMA.items(), key=lambda x: x[1])[0]\n",
    "best_algorithm_name"
   ]
  },
  {
   "cell_type": "code",
   "execution_count": 7,
   "metadata": {},
   "outputs": [],
   "source": [
    "best_algorithm = algos[best_algorithm_name]"
   ]
  },
  {
   "cell_type": "markdown",
   "metadata": {},
   "source": []
  },
  {
   "cell_type": "code",
   "execution_count": 8,
   "metadata": {},
   "outputs": [],
   "source": [
    "# Calculate precision@k and recall@k\n",
    "def precision_recall_at_k(predictions, k = 10, threshold = 3.5):\n",
    "    user_est_true = defaultdict(list)\n",
    "    for uid, _, true_r, est, _ in predictions:\n",
    "        user_est_true[uid].append((est, true_r))\n",
    "    precisions = dict()\n",
    "    recalls = dict()\n",
    "    for uid, user_ratings in user_est_true.items():\n",
    "        user_ratings.sort(key=lambda x: x[0], reverse=True)\n",
    "        n_rel = sum((true_r >= threshold) for (_, true_r) in user_ratings)\n",
    "        n_rec_k = sum((est >= threshold) for (est, _) in user_ratings[:k])\n",
    "        n_rel_and_rec_k = sum(((true_r >= threshold) and (est >= threshold))\n",
    "                              for (est, true_r) in user_ratings[:k])\n",
    "        precisions[uid] = n_rel_and_rec_k / n_rec_k if n_rec_k != 0 else 0\n",
    "        recalls[uid] = n_rel_and_rec_k / n_rel if n_rel != 0 else 0\n",
    "    return precisions, recalls"
   ]
  },
  {
   "cell_type": "code",
   "execution_count": 9,
   "metadata": {},
   "outputs": [],
   "source": [
    "best_algorithm.fit(trainset)\n",
    "predictions = best_algorithm.test(testset)\n",
    "precisions, recalls = precision_recall_at_k(predictions, k = 5, threshold = threshold)\n",
    "precisionak = round(sum(precision for precision in precisions.values()) / len(precisions), 3)\n",
    "recallak = round(sum(recall for recall in recalls.values()) / len(recalls), 3)"
   ]
  },
  {
   "cell_type": "code",
   "execution_count": 10,
   "metadata": {},
   "outputs": [
    {
     "output_type": "execute_result",
     "data": {
      "text/plain": [
       "0.739"
      ]
     },
     "metadata": {},
     "execution_count": 10
    }
   ],
   "source": [
    "precisionak"
   ]
  },
  {
   "cell_type": "code",
   "execution_count": 11,
   "metadata": {},
   "outputs": [
    {
     "output_type": "execute_result",
     "data": {
      "text/plain": [
       "0.361"
      ]
     },
     "metadata": {},
     "execution_count": 11
    }
   ],
   "source": [
    "recallak"
   ]
  },
  {
   "cell_type": "code",
   "execution_count": 12,
   "metadata": {},
   "outputs": [],
   "source": [
    "def get_top_n(predictions, n=10):\n",
    "    top_n = defaultdict(list)\n",
    "    for uid, iid, true_r, est, _ in predictions:\n",
    "        top_n[uid].append((iid, est))\n",
    "    for uid, user_ratings in top_n.items():\n",
    "        user_ratings.sort(key=lambda x: x[1], reverse=True)\n",
    "        top_n[uid] = user_ratings[:n]\n",
    "    return top_n"
   ]
  },
  {
   "cell_type": "code",
   "execution_count": 13,
   "metadata": {},
   "outputs": [],
   "source": [
    "def num_of_top_n(top_n, user):\n",
    "    for uid, user_ratings in top_n.items():\n",
    "        if uid == user: \n",
    "            films = [iid for (iid, _) in user_ratings]\n",
    "            rate = user_ratings\n",
    "            break\n",
    "    return films, rate"
   ]
  },
  {
   "cell_type": "code",
   "execution_count": 14,
   "metadata": {},
   "outputs": [
    {
     "output_type": "execute_result",
     "data": {
      "text/plain": [
       "['318', '483', '199', '408', '357']"
      ]
     },
     "metadata": {},
     "execution_count": 14
    }
   ],
   "source": [
    "testset = trainset.build_anti_testset()\n",
    "predictions = best_algorithm.test(testset)\n",
    "top_n = get_top_n(predictions, n)\n",
    "films, rate = num_of_top_n(top_n, user)\n",
    "rate=dict(rate)\n",
    "\n",
    "films"
   ]
  },
  {
   "cell_type": "code",
   "execution_count": 15,
   "metadata": {},
   "outputs": [],
   "source": [
    "def info(films):\n",
    "    data_path = get_dataset_dir() + '/ml-100k/ml-100k/u.item'\n",
    "    info = {}\n",
    "    data = pd.read_csv(data_path, sep='|',encoding='ISO-8859-1', header = None) \n",
    "    for film in films:\n",
    "        row = data.iloc[int(film)]\n",
    "        info[film] = (row[1], row[2])\n",
    "    return info"
   ]
  },
  {
   "cell_type": "code",
   "execution_count": 16,
   "metadata": {},
   "outputs": [
    {
     "output_type": "execute_result",
     "data": {
      "text/plain": [
       "{'318': ('Everyone Says I Love You (1996)', '06-Dec-1996'),\n",
       " '483': ('Maltese Falcon, The (1941)', '01-Jan-1941'),\n",
       " '199': ('Shining, The (1980)', '01-Jan-1980'),\n",
       " '408': ('Jack (1996)', '07-Aug-1996'),\n",
       " '357': ('Spawn (1997)', '01-Aug-1997')}"
      ]
     },
     "metadata": {},
     "execution_count": 16
    }
   ],
   "source": [
    "films_info = info(films)\n",
    "films_info"
   ]
  },
  {
   "cell_type": "code",
   "execution_count": 17,
   "metadata": {},
   "outputs": [],
   "source": [
    "file = open('2_2.txt', 'w')\n",
    "file.write('User '+ user + '\\n')\n",
    "for film in films_info:\n",
    "    file.write(str(film) + ' ' + str(films_info[film]) + ' ' + str(round(rate[film],3)) + '\\n')\n",
    "file.close()"
   ]
  },
  {
   "cell_type": "code",
   "execution_count": 18,
   "metadata": {},
   "outputs": [
    {
     "output_type": "stream",
     "name": "stdout",
     "text": [
      "User 10\n318 ('Everyone Says I Love You (1996)', '06-Dec-1996') 5\n483 ('Maltese Falcon, The (1941)', '01-Jan-1941') 4.904\n199 ('Shining, The (1980)', '01-Jan-1980') 4.826\n408 ('Jack (1996)', '07-Aug-1996') 4.783\n357 ('Spawn (1997)', '01-Aug-1997') 4.771\n"
     ]
    }
   ],
   "source": [
    "print('User '+ user)\n",
    "for film in films_info:\n",
    "    print(str(film) + ' ' + str(films_info[film]) + ' ' + str(round(rate[film],3)))"
   ]
  }
 ],
 "metadata": {
  "kernelspec": {
   "display_name": "Python 3",
   "language": "python",
   "name": "python3"
  },
  "language_info": {
   "codemirror_mode": {
    "name": "ipython",
    "version": 3
   },
   "file_extension": ".py",
   "mimetype": "text/x-python",
   "name": "python",
   "nbconvert_exporter": "python",
   "pygments_lexer": "ipython3",
   "version": "3.8.0-final"
  }
 },
 "nbformat": 4,
 "nbformat_minor": 2
}